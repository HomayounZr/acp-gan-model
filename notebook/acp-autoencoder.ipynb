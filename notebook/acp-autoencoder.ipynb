{
 "cells": [
  {
   "cell_type": "code",
   "execution_count": 192,
   "id": "4fbe58f2-4692-4b90-8ac9-15d91f087e7e",
   "metadata": {},
   "outputs": [],
   "source": [
    "import pandas as pd\n",
    "import numpy as np"
   ]
  },
  {
   "cell_type": "code",
   "execution_count": 193,
   "id": "701dc6bc",
   "metadata": {},
   "outputs": [
    {
     "name": "stdout",
     "output_type": "stream",
     "text": [
      "(740, 25, 31)\n"
     ]
    },
    {
     "data": {
      "text/plain": [
       "array([[0, 0, 0, 0, 1, 0, 1, 0, 1, 0, 1, 0, 0, 0, 1, 0, 1, 0, 0, 0, 1, 0,\n",
       "        1, 0, 0, 1, 0, 0, 1, 0, 0],\n",
       "       [0, 0, 0, 0, 1, 1, 0, 0, 0, 0, 1, 0, 0, 1, 0, 0, 0, 1, 0, 1, 0, 0,\n",
       "        0, 1, 0, 0, 1, 0, 1, 0, 0],\n",
       "       [1, 0, 0, 1, 1, 0, 0, 0, 0, 0, 1, 0, 0, 1, 0, 0, 0, 0, 1, 1, 0, 0,\n",
       "        0, 0, 1, 0, 0, 1, 1, 0, 0],\n",
       "       [0, 0, 0, 1, 0, 0, 1, 0, 1, 0, 1, 0, 0, 0, 1, 0, 1, 0, 0, 0, 1, 0,\n",
       "        1, 0, 0, 1, 0, 0, 0, 1, 0],\n",
       "       [0, 0, 1, 1, 1, 0, 0, 1, 0, 0, 0, 0, 1, 0, 0, 1, 0, 0, 1, 0, 0, 1,\n",
       "        0, 0, 1, 0, 1, 0, 0, 0, 1],\n",
       "       [0, 0, 0, 0, 1, 1, 0, 0, 0, 0, 1, 0, 0, 1, 0, 0, 0, 1, 0, 1, 0, 0,\n",
       "        0, 1, 0, 0, 0, 1, 1, 0, 0],\n",
       "       [0, 0, 1, 1, 1, 0, 0, 1, 0, 0, 0, 0, 1, 0, 0, 1, 0, 0, 1, 0, 0, 1,\n",
       "        0, 0, 1, 0, 1, 0, 0, 0, 1],\n",
       "       [0, 1, 0, 1, 0, 0, 0, 1, 0, 0, 0, 1, 0, 0, 0, 1, 0, 1, 0, 0, 0, 1,\n",
       "        0, 1, 0, 0, 1, 0, 0, 0, 1],\n",
       "       [0, 0, 0, 0, 1, 1, 0, 0, 1, 0, 1, 0, 0, 1, 0, 0, 0, 1, 0, 1, 0, 0,\n",
       "        0, 1, 0, 0, 0, 1, 1, 0, 0],\n",
       "       [0, 0, 0, 0, 1, 0, 1, 0, 1, 0, 1, 0, 0, 0, 1, 0, 1, 0, 0, 0, 1, 0,\n",
       "        1, 0, 0, 1, 0, 0, 1, 0, 0],\n",
       "       [0, 0, 1, 1, 1, 0, 0, 1, 0, 0, 0, 0, 1, 0, 0, 1, 0, 0, 1, 0, 0, 1,\n",
       "        0, 0, 1, 0, 1, 0, 0, 0, 1],\n",
       "       [0, 1, 0, 1, 0, 0, 0, 1, 0, 0, 0, 1, 0, 0, 0, 1, 0, 1, 0, 0, 0, 1,\n",
       "        0, 1, 0, 0, 1, 0, 0, 0, 1],\n",
       "       [0, 0, 0, 0, 1, 0, 1, 0, 1, 0, 1, 0, 0, 0, 1, 0, 1, 0, 0, 0, 1, 0,\n",
       "        1, 0, 0, 0, 1, 0, 1, 0, 0],\n",
       "       [0, 0, 0, 0, 1, 0, 1, 0, 1, 0, 1, 0, 0, 0, 1, 0, 1, 0, 0, 0, 1, 0,\n",
       "        1, 0, 0, 0, 1, 0, 1, 0, 0],\n",
       "       [0, 0, 1, 1, 1, 0, 0, 1, 0, 0, 0, 0, 1, 0, 0, 1, 0, 0, 1, 0, 0, 1,\n",
       "        0, 0, 1, 0, 1, 0, 0, 0, 1],\n",
       "       [0, 0, 0, 0, 1, 0, 1, 0, 1, 0, 1, 0, 0, 0, 1, 0, 1, 0, 0, 0, 1, 0,\n",
       "        1, 0, 0, 0, 1, 0, 1, 0, 0],\n",
       "       [0, 0, 0, 0, 1, 0, 1, 0, 1, 0, 1, 0, 0, 0, 1, 0, 1, 0, 0, 0, 1, 0,\n",
       "        1, 0, 0, 0, 1, 0, 1, 0, 0],\n",
       "       [0, 0, 0, 0, 1, 0, 1, 0, 1, 0, 1, 0, 0, 0, 1, 0, 1, 0, 0, 0, 1, 0,\n",
       "        1, 0, 0, 0, 1, 0, 1, 0, 0],\n",
       "       [0, 0, 1, 1, 1, 0, 0, 1, 0, 0, 0, 0, 1, 0, 0, 1, 0, 0, 1, 0, 0, 1,\n",
       "        0, 0, 1, 0, 1, 0, 0, 0, 1],\n",
       "       [0, 0, 0, 0, 1, 0, 1, 0, 1, 0, 1, 0, 0, 0, 1, 0, 1, 0, 0, 0, 1, 0,\n",
       "        1, 0, 0, 0, 1, 0, 1, 0, 0],\n",
       "       [0, 0, 0, 0, 1, 0, 1, 0, 1, 0, 1, 0, 0, 0, 1, 0, 1, 0, 0, 0, 1, 0,\n",
       "        1, 0, 0, 0, 1, 0, 1, 0, 0],\n",
       "       [0, 0, 0, 0, 1, 0, 1, 0, 1, 0, 1, 0, 0, 0, 1, 0, 1, 0, 0, 0, 1, 0,\n",
       "        1, 0, 0, 1, 0, 0, 1, 0, 0],\n",
       "       [0, 0, 1, 1, 1, 0, 0, 1, 0, 0, 0, 0, 1, 0, 0, 1, 0, 0, 1, 0, 0, 1,\n",
       "        0, 0, 1, 0, 1, 0, 0, 0, 1],\n",
       "       [0, 0, 0, 0, 1, 0, 1, 0, 1, 0, 1, 0, 0, 0, 1, 0, 1, 0, 0, 0, 1, 0,\n",
       "        1, 0, 0, 0, 1, 0, 1, 0, 0],\n",
       "       [0, 0, 0, 0, 1, 0, 1, 0, 1, 0, 1, 0, 0, 0, 1, 0, 1, 0, 0, 0, 1, 0,\n",
       "        1, 0, 0, 0, 1, 0, 1, 0, 0]])"
      ]
     },
     "execution_count": 193,
     "metadata": {},
     "output_type": "execute_result"
    }
   ],
   "source": [
    "X1 = np.load(\"./bits-740.npy\") # the physiochemical matrix representation\n",
    "print(X1.shape)\n",
    "X1[0]"
   ]
  },
  {
   "cell_type": "code",
   "execution_count": 194,
   "id": "4ad4b3c1",
   "metadata": {},
   "outputs": [
    {
     "name": "stdout",
     "output_type": "stream",
     "text": [
      "(740, 25, 20)\n"
     ]
    },
    {
     "data": {
      "text/plain": [
       "array([[ 0, -3, -1, -2, -3,  6, -2, -4, -2, -4, -3,  0, -2, -2, -2,  0,\n",
       "        -2, -3, -2, -3],\n",
       "       [-1, -1, -4, -3,  0, -4, -3,  2, -2,  4,  2, -3, -3, -2, -2, -2,\n",
       "        -1,  1, -2, -1],\n",
       "       [-3, -2, -4, -3,  1, -2, -2, -3, -3, -2, -1, -4, -4, -2, -3, -3,\n",
       "        -2, -3, 11,  2],\n",
       "       [ 1, -1,  0,  0, -2,  0, -1, -2,  0, -2, -1,  1, -1,  0, -1,  4,\n",
       "         1, -2, -3, -2],\n",
       "       [-1, -3, -1,  1, -3, -2, -1, -3,  5, -2, -1,  0, -1,  1,  2,  0,\n",
       "        -1, -2, -3, -2],\n",
       "       [-1, -1, -3, -3,  0, -4, -3,  4, -3,  2,  1, -3, -3, -3, -3, -2,\n",
       "        -1,  3, -3, -1],\n",
       "       [-1, -3, -1,  1, -3, -2, -1, -3,  5, -2, -1,  0, -1,  1,  2,  0,\n",
       "        -1, -2, -3, -2],\n",
       "       [-1, -4,  2,  5, -3, -2,  0, -3,  1, -3, -2,  0, -1,  2,  0,  0,\n",
       "        -1, -2, -3, -2],\n",
       "       [ 0, -1, -3, -2, -1, -3, -3,  3, -2,  1,  1, -3, -2, -2, -3, -2,\n",
       "         0,  4, -3, -1],\n",
       "       [ 0, -3, -1, -2, -3,  6, -2, -4, -2, -4, -3,  0, -2, -2, -2,  0,\n",
       "        -2, -3, -2, -3],\n",
       "       [-1, -3, -1,  1, -3, -2, -1, -3,  5, -2, -1,  0, -1,  1,  2,  0,\n",
       "        -1, -2, -3, -2],\n",
       "       [-1, -4,  2,  5, -3, -2,  0, -3,  1, -3, -2,  0, -1,  2,  0,  0,\n",
       "        -1, -2, -3, -2],\n",
       "       [ 4,  0, -2, -1, -2,  0, -2, -1, -1, -1, -1, -2, -1, -1, -1,  1,\n",
       "         0,  0, -3, -2],\n",
       "       [ 4,  0, -2, -1, -2,  0, -2, -1, -1, -1, -1, -2, -1, -1, -1,  1,\n",
       "         0,  0, -3, -2],\n",
       "       [-1, -3, -1,  1, -3, -2, -1, -3,  5, -2, -1,  0, -1,  1,  2,  0,\n",
       "        -1, -2, -3, -2],\n",
       "       [ 4,  0, -2, -1, -2,  0, -2, -1, -1, -1, -1, -2, -1, -1, -1,  1,\n",
       "         0,  0, -3, -2],\n",
       "       [ 4,  0, -2, -1, -2,  0, -2, -1, -1, -1, -1, -2, -1, -1, -1,  1,\n",
       "         0,  0, -3, -2],\n",
       "       [ 4,  0, -2, -1, -2,  0, -2, -1, -1, -1, -1, -2, -1, -1, -1,  1,\n",
       "         0,  0, -3, -2],\n",
       "       [-1, -3, -1,  1, -3, -2, -1, -3,  5, -2, -1,  0, -1,  1,  2,  0,\n",
       "        -1, -2, -3, -2],\n",
       "       [ 4,  0, -2, -1, -2,  0, -2, -1, -1, -1, -1, -2, -1, -1, -1,  1,\n",
       "         0,  0, -3, -2],\n",
       "       [ 4,  0, -2, -1, -2,  0, -2, -1, -1, -1, -1, -2, -1, -1, -1,  1,\n",
       "         0,  0, -3, -2],\n",
       "       [ 0, -3, -1, -2, -3,  6, -2, -4, -2, -4, -3,  0, -2, -2, -2,  0,\n",
       "        -2, -3, -2, -3],\n",
       "       [-1, -3, -1,  1, -3, -2, -1, -3,  5, -2, -1,  0, -1,  1,  2,  0,\n",
       "        -1, -2, -3, -2],\n",
       "       [ 4,  0, -2, -1, -2,  0, -2, -1, -1, -1, -1, -2, -1, -1, -1,  1,\n",
       "         0,  0, -3, -2],\n",
       "       [ 4,  0, -2, -1, -2,  0, -2, -1, -1, -1, -1, -2, -1, -1, -1,  1,\n",
       "         0,  0, -3, -2]])"
      ]
     },
     "execution_count": 194,
     "metadata": {},
     "output_type": "execute_result"
    }
   ],
   "source": [
    "X2 = np.load(\"./blosum-740.npy\") # the blosum of the peptide (a matrix which has the probability of a aminoacid chaing to another amino acid)\n",
    "print(X2.shape)\n",
    "X2[0]"
   ]
  },
  {
   "cell_type": "code",
   "execution_count": 195,
   "id": "8ea3e7c9",
   "metadata": {},
   "outputs": [
    {
     "name": "stdout",
     "output_type": "stream",
     "text": [
      "(376, 25, 20)\n",
      "(25, 20)\n"
     ]
    },
    {
     "data": {
      "text/plain": [
       "array([[0, 0, 0, 0, 0, 1, 0, 0, 0, 0, 0, 0, 0, 0, 0, 0, 0, 0, 0, 0],\n",
       "       [0, 0, 0, 0, 0, 0, 0, 0, 0, 1, 0, 0, 0, 0, 0, 0, 0, 0, 0, 0],\n",
       "       [0, 0, 0, 0, 0, 0, 0, 0, 0, 0, 0, 0, 0, 0, 0, 0, 0, 0, 1, 0],\n",
       "       [0, 0, 0, 0, 0, 0, 0, 0, 0, 0, 0, 0, 0, 0, 0, 1, 0, 0, 0, 0],\n",
       "       [0, 0, 0, 0, 0, 0, 0, 0, 1, 0, 0, 0, 0, 0, 0, 0, 0, 0, 0, 0],\n",
       "       [0, 0, 0, 0, 0, 0, 0, 1, 0, 0, 0, 0, 0, 0, 0, 0, 0, 0, 0, 0],\n",
       "       [0, 0, 0, 0, 0, 0, 0, 0, 1, 0, 0, 0, 0, 0, 0, 0, 0, 0, 0, 0],\n",
       "       [0, 0, 0, 1, 0, 0, 0, 0, 0, 0, 0, 0, 0, 0, 0, 0, 0, 0, 0, 0],\n",
       "       [0, 0, 0, 0, 0, 0, 0, 0, 0, 0, 0, 0, 0, 0, 0, 0, 0, 1, 0, 0],\n",
       "       [0, 0, 0, 0, 0, 1, 0, 0, 0, 0, 0, 0, 0, 0, 0, 0, 0, 0, 0, 0],\n",
       "       [0, 0, 0, 0, 0, 0, 0, 0, 1, 0, 0, 0, 0, 0, 0, 0, 0, 0, 0, 0],\n",
       "       [0, 0, 0, 1, 0, 0, 0, 0, 0, 0, 0, 0, 0, 0, 0, 0, 0, 0, 0, 0],\n",
       "       [1, 0, 0, 0, 0, 0, 0, 0, 0, 0, 0, 0, 0, 0, 0, 0, 0, 0, 0, 0],\n",
       "       [1, 0, 0, 0, 0, 0, 0, 0, 0, 0, 0, 0, 0, 0, 0, 0, 0, 0, 0, 0],\n",
       "       [0, 0, 0, 0, 0, 0, 0, 0, 1, 0, 0, 0, 0, 0, 0, 0, 0, 0, 0, 0],\n",
       "       [1, 0, 0, 0, 0, 0, 0, 0, 0, 0, 0, 0, 0, 0, 0, 0, 0, 0, 0, 0],\n",
       "       [1, 0, 0, 0, 0, 0, 0, 0, 0, 0, 0, 0, 0, 0, 0, 0, 0, 0, 0, 0],\n",
       "       [1, 0, 0, 0, 0, 0, 0, 0, 0, 0, 0, 0, 0, 0, 0, 0, 0, 0, 0, 0],\n",
       "       [0, 0, 0, 0, 0, 0, 0, 0, 1, 0, 0, 0, 0, 0, 0, 0, 0, 0, 0, 0],\n",
       "       [1, 0, 0, 0, 0, 0, 0, 0, 0, 0, 0, 0, 0, 0, 0, 0, 0, 0, 0, 0],\n",
       "       [1, 0, 0, 0, 0, 0, 0, 0, 0, 0, 0, 0, 0, 0, 0, 0, 0, 0, 0, 0],\n",
       "       [0, 0, 0, 0, 0, 1, 0, 0, 0, 0, 0, 0, 0, 0, 0, 0, 0, 0, 0, 0],\n",
       "       [0, 0, 0, 0, 0, 0, 0, 0, 1, 0, 0, 0, 0, 0, 0, 0, 0, 0, 0, 0],\n",
       "       [1, 0, 0, 0, 0, 0, 0, 0, 0, 0, 0, 0, 0, 0, 0, 0, 0, 0, 0, 0],\n",
       "       [1, 0, 0, 0, 0, 0, 0, 0, 0, 0, 0, 0, 0, 0, 0, 0, 0, 0, 0, 0]])"
      ]
     },
     "execution_count": 195,
     "metadata": {},
     "output_type": "execute_result"
    }
   ],
   "source": [
    "X3 = np.load(\"./bpf-740.npy\") # the bpf representation of the peptides\n",
    "X3 = X3[:376] # positive samples in the dataset\n",
    "print(X3.shape)\n",
    "print(X3[0].shape)\n",
    "X3[0]"
   ]
  },
  {
   "cell_type": "markdown",
   "id": "38af90e0",
   "metadata": {},
   "source": [
    "##### now we are going to build the VAE using the bpf dataset to generate the possible peptides by learning the latest dimention of the other similar peptides'"
   ]
  },
  {
   "cell_type": "code",
   "execution_count": 196,
   "id": "5ca443f3",
   "metadata": {},
   "outputs": [],
   "source": [
    "# import necessarry tensorflow and keras libraries\n",
    "import tensorflow as tf\n",
    "import tensorflow_probability as tfp\n",
    "import matplotlib.pyplot as plt"
   ]
  },
  {
   "cell_type": "code",
   "execution_count": 197,
   "id": "6441c269",
   "metadata": {},
   "outputs": [],
   "source": [
    "train_size = 300\n",
    "batch_size = 12\n",
    "test_size = 76\n",
    "\n",
    "np.random.shuffle(X3)\n",
    "train_x, test_x = X3[:train_size], X3[train_size:]\n",
    "\n",
    "train_dataset = (tf.data.Dataset.from_tensor_slices(train_x)\n",
    "                 .shuffle(train_size).batch(batch_size))\n",
    "test_dataset = (tf.data.Dataset.from_tensor_slices(test_x)\n",
    "                 .shuffle(test_size).batch(batch_size))"
   ]
  },
  {
   "cell_type": "code",
   "execution_count": 198,
   "id": "ff57fb33",
   "metadata": {},
   "outputs": [],
   "source": [
    "def build_encoder(latent_dim):\n",
    "    return tf.keras.Sequential(\n",
    "        [\n",
    "            tf.keras.layers.InputLayer(input_shape=(25,20,1)),\n",
    "            tf.keras.layers.Conv2D(\n",
    "                filters=32, kernel_size=3, strides=(2,2), activation='relu',\n",
    "            ),\n",
    "            tf.keras.layers.Conv2D(\n",
    "                filters=64, kernel_size=3, strides=(2,2), activation='relu',\n",
    "            ),\n",
    "            tf.keras.layers.Flatten(),\n",
    "            tf.keras.layers.Dense(latent_dim + latent_dim),\n",
    "        ]\n",
    "    )"
   ]
  },
  {
   "cell_type": "code",
   "execution_count": 199,
   "id": "208f0962",
   "metadata": {},
   "outputs": [],
   "source": [
    "def build_decoder(latent_dim):\n",
    "    return tf.keras.Sequential(\n",
    "        [\n",
    "            tf.keras.layers.InputLayer(input_shape=(latent_dim,)),\n",
    "            tf.keras.layers.Dense(units=5*4*64, activation=tf.nn.relu),\n",
    "            tf.keras.layers.Reshape(target_shape=(5, 4, 64)),\n",
    "            tf.keras.layers.Conv2DTranspose(\n",
    "                filters=64, kernel_size=3, strides=2, padding='same', activation='relu'\n",
    "            ),\n",
    "            tf.keras.layers.Conv2DTranspose(\n",
    "                filters=32, kernel_size=3, strides=2, padding='same', activation='relu'\n",
    "            ),\n",
    "            tf.keras.layers.Conv2DTranspose(\n",
    "                filters=16, kernel_size=3, strides=2, padding='same', activation='relu'\n",
    "            ),\n",
    "            tf.keras.layers.Conv2DTranspose(\n",
    "                filters=1, kernel_size=3, strides=1, padding='same'\n",
    "            ),\n",
    "            # Resize the output to match the shape of the input data\n",
    "            tf.keras.layers.Lambda(lambda x: tf.image.resize(x, (25, 20)))\n",
    "        ]\n",
    "    )"
   ]
  },
  {
   "cell_type": "code",
   "execution_count": 200,
   "id": "c6368256",
   "metadata": {},
   "outputs": [],
   "source": [
    "class CVAE(tf.keras.Model):\n",
    "    def __init__(self, latent_dim):\n",
    "        super(CVAE, self).__init__()\n",
    "        self.latent_dim = latent_dim\n",
    "        self.encoder = build_encoder(latent_dim)\n",
    "        self.decoder = build_decoder(latent_dim)\n",
    "\n",
    "    @tf.function\n",
    "    def sample(self, eps=None):\n",
    "        if eps is None:\n",
    "            eps = tf.random.normal(shape=(100, self.latent_dim))\n",
    "        return self.decode(eps, apply_sigmoid=True)\n",
    "    \n",
    "    def encode(self, x):\n",
    "        result = self.encoder(x)\n",
    "        mean, logvar = tf.split(result, num_or_size_splits=2, axis=1)\n",
    "        return mean, logvar\n",
    "    \n",
    "    def reparameterize(self, mean, logvar):\n",
    "        eps = tf.random.normal(shape=mean.shape)\n",
    "        return eps * tf.exp(logvar * 0.5) + mean\n",
    "    \n",
    "    def decode(self, z, apply_sigmoid=False):\n",
    "        logits = self.decoder(z)\n",
    "        if apply_sigmoid:\n",
    "            probs = tf.sigmoid(logits)\n",
    "            return probs\n",
    "        return logits"
   ]
  },
  {
   "cell_type": "code",
   "execution_count": 201,
   "id": "7c1aa944",
   "metadata": {},
   "outputs": [],
   "source": [
    "optimizer = tf.keras.optimizers.Adam(1e-4)"
   ]
  },
  {
   "cell_type": "code",
   "execution_count": 202,
   "id": "40259db6",
   "metadata": {},
   "outputs": [],
   "source": [
    "def log_normal_pdf(sample, mean, logvar, raxis=1):\n",
    "  log2pi = tf.math.log(2. * np.pi)\n",
    "  return tf.reduce_sum(\n",
    "      -.5 * ((sample - mean) ** 2. * tf.exp(-logvar) + logvar + log2pi),\n",
    "      axis=raxis)\n",
    "\n",
    "def compute_loss(model, x):\n",
    "  # mean, logvar = model.encode(x)\n",
    "  # print(mean.shape)\n",
    "  # print(logvar.shape)\n",
    "  # z = model.reparameterize(mean, logvar)\n",
    "  # x_logit = model.decode(z)\n",
    "\n",
    "  # print(x_logit.shape)\n",
    "  # cross_ent = tf.nn.sigmoid_cross_entropy_with_logits(logits=x_logit, labels=x)\n",
    "  # logpx_z = -tf.reduce_sum(cross_ent, axis=[1, 2, 3])\n",
    "  # logpz = log_normal_pdf(z, 0., 0.)\n",
    "  # logqz_x = log_normal_pdf(z, mean, logvar)\n",
    "  # return -tf.reduce_mean(logpx_z + logpz - logqz_x)\n",
    "  mean, logvar = model.encode(x)\n",
    "  z = model.reparameterize(mean, logvar)\n",
    "  x_logit = model.decode(z)\n",
    "\n",
    "  # Remove the last dimension of x_logit to match the shape of x\n",
    "  x_logit = tf.squeeze(x_logit, axis=-1)\n",
    "\n",
    "  # Cast x to float32\n",
    "  x = tf.cast(x, tf.float32)\n",
    "\n",
    "  cross_ent = tf.nn.sigmoid_cross_entropy_with_logits(logits=x_logit, labels=x)\n",
    "  logpx_z = -tf.reduce_sum(cross_ent, axis=[1, 2])\n",
    "  logpz = log_normal_pdf(z, 0., 0.)\n",
    "  logqz_x = log_normal_pdf(z, mean, logvar)\n",
    "  return -tf.reduce_mean(logpx_z + logpz - logqz_x)\n",
    "\n",
    "\n",
    "@tf.function\n",
    "def train_step(model, x, optimizer):\n",
    "  \"\"\"Executes one training step and returns the loss.\n",
    "\n",
    "  This function computes the loss and gradients, and uses the latter to\n",
    "  update the model's parameters.\n",
    "  \"\"\"\n",
    "  with tf.GradientTape() as tape:\n",
    "    loss = compute_loss(model, x)\n",
    "  gradients = tape.gradient(loss, model.trainable_variables)\n",
    "  optimizer.apply_gradients(zip(gradients, model.trainable_variables))"
   ]
  },
  {
   "cell_type": "code",
   "execution_count": 203,
   "id": "a288559e",
   "metadata": {},
   "outputs": [],
   "source": [
    "epochs = 100\n",
    "# set the dimensionality of the latent space to a plane for visualization later\n",
    "latent_dim = 2\n",
    "num_examples_to_generate = 12\n",
    "\n",
    "# keeping the random vector constant for generation (prediction) so\n",
    "# it will be easier to see the improvement.\n",
    "random_vector_for_generation = tf.random.normal(\n",
    "    shape=[num_examples_to_generate, latent_dim])\n",
    "\n",
    "model = CVAE(latent_dim)"
   ]
  },
  {
   "cell_type": "code",
   "execution_count": 204,
   "id": "11bd0538",
   "metadata": {},
   "outputs": [],
   "source": [
    "def generate(model, epoch, test_sample):\n",
    "  mean, logvar = model.encode(test_sample)\n",
    "  z = model.reparameterize(mean, logvar)\n",
    "  predictions = model.sample(z)\n",
    "  return predictions\n"
   ]
  },
  {
   "cell_type": "code",
   "execution_count": 205,
   "id": "8720bb60",
   "metadata": {},
   "outputs": [],
   "source": [
    "assert batch_size >= num_examples_to_generate\n",
    "for test_batch in test_dataset.take(1):\n",
    "  test_sample = test_batch[0:num_examples_to_generate, :, :]"
   ]
  },
  {
   "cell_type": "code",
   "execution_count": 207,
   "id": "761fb6de",
   "metadata": {},
   "outputs": [
    {
     "name": "stdout",
     "output_type": "stream",
     "text": [
      "Epoch: 1, Test set ELBO: -335.9266052246094, time elapse for current epoch: 1.0993878841400146\n",
      "Epoch: 2, Test set ELBO: -313.765869140625, time elapse for current epoch: 1.105536937713623\n",
      "Epoch: 3, Test set ELBO: -245.9586639404297, time elapse for current epoch: 0.9083867073059082\n",
      "Epoch: 4, Test set ELBO: -135.33506774902344, time elapse for current epoch: 1.095106601715088\n",
      "Epoch: 5, Test set ELBO: -126.0078125, time elapse for current epoch: 1.1085965633392334\n",
      "Epoch: 6, Test set ELBO: -113.97925567626953, time elapse for current epoch: 1.0029394626617432\n",
      "Epoch: 7, Test set ELBO: -115.24121856689453, time elapse for current epoch: 1.112790584564209\n",
      "Epoch: 8, Test set ELBO: -106.4713134765625, time elapse for current epoch: 0.9606993198394775\n",
      "Epoch: 9, Test set ELBO: -105.2029800415039, time elapse for current epoch: 0.5958070755004883\n",
      "Epoch: 10, Test set ELBO: -98.952392578125, time elapse for current epoch: 1.0800409317016602\n",
      "Epoch: 11, Test set ELBO: -100.05696105957031, time elapse for current epoch: 0.515080451965332\n",
      "Epoch: 12, Test set ELBO: -97.40521240234375, time elapse for current epoch: 1.2681846618652344\n",
      "Epoch: 13, Test set ELBO: -94.77122497558594, time elapse for current epoch: 1.6128737926483154\n",
      "Epoch: 14, Test set ELBO: -94.40961456298828, time elapse for current epoch: 1.2541115283966064\n",
      "Epoch: 15, Test set ELBO: -93.51307678222656, time elapse for current epoch: 0.977184534072876\n",
      "Epoch: 16, Test set ELBO: -93.1049575805664, time elapse for current epoch: 0.7166891098022461\n",
      "Epoch: 17, Test set ELBO: -92.81956481933594, time elapse for current epoch: 1.010025978088379\n",
      "Epoch: 18, Test set ELBO: -90.23884582519531, time elapse for current epoch: 0.7067341804504395\n",
      "Epoch: 19, Test set ELBO: -90.8880844116211, time elapse for current epoch: 0.8539447784423828\n",
      "Epoch: 20, Test set ELBO: -90.71519470214844, time elapse for current epoch: 1.1968302726745605\n",
      "Epoch: 21, Test set ELBO: -88.853271484375, time elapse for current epoch: 1.0524225234985352\n",
      "Epoch: 22, Test set ELBO: -88.18682861328125, time elapse for current epoch: 0.941920280456543\n",
      "Epoch: 23, Test set ELBO: -89.56929779052734, time elapse for current epoch: 1.4933538436889648\n",
      "Epoch: 24, Test set ELBO: -89.16651916503906, time elapse for current epoch: 0.7906022071838379\n",
      "Epoch: 25, Test set ELBO: -87.2712173461914, time elapse for current epoch: 0.8509986400604248\n",
      "Epoch: 26, Test set ELBO: -88.1819076538086, time elapse for current epoch: 0.7922759056091309\n",
      "Epoch: 27, Test set ELBO: -88.00098419189453, time elapse for current epoch: 0.7397449016571045\n",
      "Epoch: 28, Test set ELBO: -86.37273406982422, time elapse for current epoch: 0.7176296710968018\n",
      "Epoch: 29, Test set ELBO: -87.18994140625, time elapse for current epoch: 0.8425219058990479\n",
      "Epoch: 30, Test set ELBO: -86.59490966796875, time elapse for current epoch: 0.44150829315185547\n",
      "Epoch: 31, Test set ELBO: -86.69850158691406, time elapse for current epoch: 0.46953535079956055\n",
      "Epoch: 32, Test set ELBO: -86.08563995361328, time elapse for current epoch: 0.6372907161712646\n",
      "Epoch: 33, Test set ELBO: -84.59200286865234, time elapse for current epoch: 0.850111722946167\n",
      "Epoch: 34, Test set ELBO: -85.72083282470703, time elapse for current epoch: 0.9127585887908936\n",
      "Epoch: 35, Test set ELBO: -87.13985443115234, time elapse for current epoch: 0.44451045989990234\n",
      "Epoch: 36, Test set ELBO: -86.34051513671875, time elapse for current epoch: 0.635002613067627\n",
      "Epoch: 37, Test set ELBO: -84.63531494140625, time elapse for current epoch: 0.7648763656616211\n",
      "Epoch: 38, Test set ELBO: -86.68791198730469, time elapse for current epoch: 0.8269226551055908\n",
      "Epoch: 39, Test set ELBO: -86.42208099365234, time elapse for current epoch: 0.554020881652832\n",
      "Epoch: 40, Test set ELBO: -83.59751892089844, time elapse for current epoch: 0.7494866847991943\n",
      "Epoch: 41, Test set ELBO: -85.4952163696289, time elapse for current epoch: 1.450852394104004\n",
      "Epoch: 42, Test set ELBO: -84.67583465576172, time elapse for current epoch: 1.194979190826416\n",
      "Epoch: 43, Test set ELBO: -83.9893569946289, time elapse for current epoch: 0.9690964221954346\n",
      "Epoch: 44, Test set ELBO: -83.91615295410156, time elapse for current epoch: 0.9135453701019287\n",
      "Epoch: 45, Test set ELBO: -85.77935791015625, time elapse for current epoch: 0.8598718643188477\n",
      "Epoch: 46, Test set ELBO: -85.08668518066406, time elapse for current epoch: 0.5743491649627686\n",
      "Epoch: 47, Test set ELBO: -84.98761749267578, time elapse for current epoch: 1.2750277519226074\n",
      "Epoch: 48, Test set ELBO: -85.98663330078125, time elapse for current epoch: 0.45844221115112305\n",
      "Epoch: 49, Test set ELBO: -83.83421325683594, time elapse for current epoch: 0.7760560512542725\n",
      "Epoch: 50, Test set ELBO: -84.39849853515625, time elapse for current epoch: 0.8194234371185303\n",
      "Epoch: 51, Test set ELBO: -84.3875732421875, time elapse for current epoch: 0.9204225540161133\n",
      "Epoch: 52, Test set ELBO: -82.5127182006836, time elapse for current epoch: 1.119131326675415\n",
      "Epoch: 53, Test set ELBO: -84.29815673828125, time elapse for current epoch: 0.8972916603088379\n",
      "Epoch: 54, Test set ELBO: -84.89082336425781, time elapse for current epoch: 1.2304010391235352\n",
      "Epoch: 55, Test set ELBO: -85.20088958740234, time elapse for current epoch: 1.1805176734924316\n",
      "Epoch: 56, Test set ELBO: -84.17182159423828, time elapse for current epoch: 0.8705658912658691\n",
      "Epoch: 57, Test set ELBO: -83.20055389404297, time elapse for current epoch: 0.4824662208557129\n",
      "Epoch: 58, Test set ELBO: -82.50291442871094, time elapse for current epoch: 0.33704447746276855\n",
      "Epoch: 59, Test set ELBO: -84.4690933227539, time elapse for current epoch: 1.111262321472168\n",
      "Epoch: 60, Test set ELBO: -83.80228424072266, time elapse for current epoch: 0.497668981552124\n",
      "Epoch: 61, Test set ELBO: -84.54530334472656, time elapse for current epoch: 1.382807731628418\n",
      "Epoch: 62, Test set ELBO: -82.26468658447266, time elapse for current epoch: 0.9424159526824951\n",
      "Epoch: 63, Test set ELBO: -83.44679260253906, time elapse for current epoch: 1.4903793334960938\n",
      "Epoch: 64, Test set ELBO: -83.20552825927734, time elapse for current epoch: 0.7452635765075684\n",
      "Epoch: 65, Test set ELBO: -83.3885726928711, time elapse for current epoch: 0.7456257343292236\n",
      "Epoch: 66, Test set ELBO: -83.75308990478516, time elapse for current epoch: 1.1976101398468018\n",
      "Epoch: 67, Test set ELBO: -82.20612335205078, time elapse for current epoch: 1.7164404392242432\n",
      "Epoch: 68, Test set ELBO: -83.18683624267578, time elapse for current epoch: 0.9341089725494385\n",
      "Epoch: 69, Test set ELBO: -83.99909973144531, time elapse for current epoch: 1.013535976409912\n",
      "Epoch: 70, Test set ELBO: -82.60796356201172, time elapse for current epoch: 1.5811243057250977\n",
      "Epoch: 71, Test set ELBO: -84.3215560913086, time elapse for current epoch: 0.9023022651672363\n",
      "Epoch: 72, Test set ELBO: -82.3294677734375, time elapse for current epoch: 0.6884293556213379\n",
      "Epoch: 73, Test set ELBO: -83.59033966064453, time elapse for current epoch: 0.8626708984375\n",
      "Epoch: 74, Test set ELBO: -82.9061050415039, time elapse for current epoch: 1.1587185859680176\n",
      "Epoch: 75, Test set ELBO: -83.1147689819336, time elapse for current epoch: 0.6383700370788574\n",
      "Epoch: 76, Test set ELBO: -83.90901947021484, time elapse for current epoch: 0.9314615726470947\n",
      "Epoch: 77, Test set ELBO: -83.5683822631836, time elapse for current epoch: 0.4745759963989258\n",
      "Epoch: 78, Test set ELBO: -82.78009796142578, time elapse for current epoch: 1.237539291381836\n",
      "Epoch: 79, Test set ELBO: -84.0376205444336, time elapse for current epoch: 0.8635647296905518\n",
      "Epoch: 80, Test set ELBO: -82.98786163330078, time elapse for current epoch: 0.8011922836303711\n",
      "Epoch: 81, Test set ELBO: -83.53241729736328, time elapse for current epoch: 0.9174647331237793\n",
      "Epoch: 82, Test set ELBO: -83.28596496582031, time elapse for current epoch: 1.0907790660858154\n",
      "Epoch: 83, Test set ELBO: -82.60662078857422, time elapse for current epoch: 0.3569355010986328\n",
      "Epoch: 84, Test set ELBO: -82.23565673828125, time elapse for current epoch: 0.8655738830566406\n",
      "Epoch: 85, Test set ELBO: -82.86322784423828, time elapse for current epoch: 1.2585937976837158\n",
      "Epoch: 86, Test set ELBO: -82.7059326171875, time elapse for current epoch: 0.2765803337097168\n",
      "Epoch: 87, Test set ELBO: -82.99613189697266, time elapse for current epoch: 0.696220874786377\n",
      "Epoch: 88, Test set ELBO: -84.43228912353516, time elapse for current epoch: 0.8794758319854736\n",
      "Epoch: 89, Test set ELBO: -81.90650177001953, time elapse for current epoch: 0.673814058303833\n",
      "Epoch: 90, Test set ELBO: -81.2064208984375, time elapse for current epoch: 0.5905642509460449\n",
      "Epoch: 91, Test set ELBO: -83.51224517822266, time elapse for current epoch: 0.8008556365966797\n",
      "Epoch: 92, Test set ELBO: -83.0079345703125, time elapse for current epoch: 1.2432169914245605\n",
      "Epoch: 93, Test set ELBO: -83.11903381347656, time elapse for current epoch: 0.4825313091278076\n",
      "Epoch: 94, Test set ELBO: -82.34504699707031, time elapse for current epoch: 0.6122326850891113\n",
      "Epoch: 95, Test set ELBO: -82.04551696777344, time elapse for current epoch: 0.4859809875488281\n",
      "Epoch: 96, Test set ELBO: -81.97492980957031, time elapse for current epoch: 0.9674813747406006\n",
      "Epoch: 97, Test set ELBO: -82.84376525878906, time elapse for current epoch: 1.0234763622283936\n",
      "Epoch: 98, Test set ELBO: -81.90909576416016, time elapse for current epoch: 1.0824494361877441\n",
      "Epoch: 99, Test set ELBO: -83.16817474365234, time elapse for current epoch: 1.071263074874878\n",
      "Epoch: 100, Test set ELBO: -81.85677337646484, time elapse for current epoch: 0.8193907737731934\n"
     ]
    }
   ],
   "source": [
    "import time\n",
    "\n",
    "generate(model, 0, test_sample)\n",
    "\n",
    "for epoch in range(1, epochs + 1):\n",
    "  start_time = time.time()\n",
    "  for train_x in train_dataset:\n",
    "    train_step(model, train_x, optimizer)\n",
    "  end_time = time.time()\n",
    "\n",
    "  loss = tf.keras.metrics.Mean()\n",
    "  for test_x in test_dataset:\n",
    "    loss(compute_loss(model, test_x))\n",
    "  elbo = -loss.result()\n",
    "  print('Epoch: {}, Test set ELBO: {}, time elapse for current epoch: {}'\n",
    "        .format(epoch, elbo, end_time - start_time))\n",
    "  generate(model, epoch, test_sample)"
   ]
  },
  {
   "cell_type": "code",
   "execution_count": null,
   "id": "cf1d8f47",
   "metadata": {},
   "outputs": [
    {
     "ename": "AttributeError",
     "evalue": "'int' object has no attribute 'shape'",
     "output_type": "error",
     "traceback": [
      "\u001b[0;31m---------------------------------------------------------------------------\u001b[0m",
      "\u001b[0;31mAttributeError\u001b[0m                            Traceback (most recent call last)",
      "Cell \u001b[0;32mIn[180], line 1\u001b[0m\n\u001b[0;32m----> 1\u001b[0m z \u001b[38;5;241m=\u001b[39m \u001b[43mmodel\u001b[49m\u001b[38;5;241;43m.\u001b[39;49m\u001b[43mreparameterize\u001b[49m\u001b[43m(\u001b[49m\u001b[38;5;241;43m1\u001b[39;49m\u001b[43m,\u001b[49m\u001b[43m \u001b[49m\u001b[38;5;241;43m1\u001b[39;49m\u001b[43m)\u001b[49m\n\u001b[1;32m      2\u001b[0m result \u001b[38;5;241m=\u001b[39m model\u001b[38;5;241m.\u001b[39mdecode(z)\n\u001b[1;32m      3\u001b[0m \u001b[38;5;28mprint\u001b[39m(result)\n",
      "Cell \u001b[0;32mIn[173], line 20\u001b[0m, in \u001b[0;36mCVAE.reparameterize\u001b[0;34m(self, mean, logvar)\u001b[0m\n\u001b[1;32m     19\u001b[0m \u001b[38;5;28;01mdef\u001b[39;00m \u001b[38;5;21mreparameterize\u001b[39m(\u001b[38;5;28mself\u001b[39m, mean, logvar):\n\u001b[0;32m---> 20\u001b[0m     eps \u001b[38;5;241m=\u001b[39m tf\u001b[38;5;241m.\u001b[39mrandom\u001b[38;5;241m.\u001b[39mnormal(shape\u001b[38;5;241m=\u001b[39m\u001b[43mmean\u001b[49m\u001b[38;5;241;43m.\u001b[39;49m\u001b[43mshape\u001b[49m)\n\u001b[1;32m     21\u001b[0m     \u001b[38;5;28;01mreturn\u001b[39;00m eps \u001b[38;5;241m*\u001b[39m tf\u001b[38;5;241m.\u001b[39mexp(logvar \u001b[38;5;241m*\u001b[39m \u001b[38;5;241m0.5\u001b[39m) \u001b[38;5;241m+\u001b[39m mean\n",
      "\u001b[0;31mAttributeError\u001b[0m: 'int' object has no attribute 'shape'"
     ]
    }
   ],
   "source": [
    "z = model.reparameterize(1, 1)\n",
    "result = model.decode(z, True)\n",
    "print(result)"
   ]
  },
  {
   "cell_type": "code",
   "execution_count": null,
   "id": "91091778",
   "metadata": {},
   "outputs": [
    {
     "ename": "AttributeError",
     "evalue": "in user code:\n\n    File \"/tmp/ipykernel_37283/919851191.py\", line 48, in train_step  *\n        loss = compute_loss(model, x)\n    File \"/tmp/ipykernel_37283/919851191.py\", line 22, in compute_loss  *\n        print(mean.numpy())\n\n    AttributeError: 'Tensor' object has no attribute 'numpy'\n",
     "output_type": "error",
     "traceback": [
      "\u001b[0;31m---------------------------------------------------------------------------\u001b[0m",
      "\u001b[0;31mAttributeError\u001b[0m                            Traceback (most recent call last)",
      "Cell \u001b[0;32mIn[185], line 2\u001b[0m\n\u001b[1;32m      1\u001b[0m \u001b[38;5;28;01mfor\u001b[39;00m train_x \u001b[38;5;129;01min\u001b[39;00m train_dataset:\n\u001b[0;32m----> 2\u001b[0m     \u001b[43mtrain_step\u001b[49m\u001b[43m(\u001b[49m\u001b[43mmodel\u001b[49m\u001b[43m,\u001b[49m\u001b[43m \u001b[49m\u001b[43mtrain_x\u001b[49m\u001b[43m,\u001b[49m\u001b[43m \u001b[49m\u001b[43moptimizer\u001b[49m\u001b[43m)\u001b[49m\n\u001b[1;32m      3\u001b[0m     \u001b[38;5;28;01mbreak\u001b[39;00m\n",
      "File \u001b[0;32m~/anaconda3/envs/acp-proj/lib/python3.10/site-packages/tensorflow/python/util/traceback_utils.py:153\u001b[0m, in \u001b[0;36mfilter_traceback.<locals>.error_handler\u001b[0;34m(*args, **kwargs)\u001b[0m\n\u001b[1;32m    151\u001b[0m \u001b[38;5;28;01mexcept\u001b[39;00m \u001b[38;5;167;01mException\u001b[39;00m \u001b[38;5;28;01mas\u001b[39;00m e:\n\u001b[1;32m    152\u001b[0m   filtered_tb \u001b[38;5;241m=\u001b[39m _process_traceback_frames(e\u001b[38;5;241m.\u001b[39m__traceback__)\n\u001b[0;32m--> 153\u001b[0m   \u001b[38;5;28;01mraise\u001b[39;00m e\u001b[38;5;241m.\u001b[39mwith_traceback(filtered_tb) \u001b[38;5;28;01mfrom\u001b[39;00m \u001b[38;5;28;01mNone\u001b[39;00m\n\u001b[1;32m    154\u001b[0m \u001b[38;5;28;01mfinally\u001b[39;00m:\n\u001b[1;32m    155\u001b[0m   \u001b[38;5;28;01mdel\u001b[39;00m filtered_tb\n",
      "File \u001b[0;32m/tmp/__autograph_generated_files2n5ji5y.py:14\u001b[0m, in \u001b[0;36mouter_factory.<locals>.inner_factory.<locals>.tf__train_step\u001b[0;34m(model, x, optimizer)\u001b[0m\n\u001b[1;32m     12\u001b[0m \u001b[38;5;28;01mwith\u001b[39;00m ag__\u001b[38;5;241m.\u001b[39mFunctionScope(\u001b[38;5;124m'\u001b[39m\u001b[38;5;124mtrain_step\u001b[39m\u001b[38;5;124m'\u001b[39m, \u001b[38;5;124m'\u001b[39m\u001b[38;5;124mfscope\u001b[39m\u001b[38;5;124m'\u001b[39m, ag__\u001b[38;5;241m.\u001b[39mConversionOptions(recursive\u001b[38;5;241m=\u001b[39m\u001b[38;5;28;01mTrue\u001b[39;00m, user_requested\u001b[38;5;241m=\u001b[39m\u001b[38;5;28;01mTrue\u001b[39;00m, optional_features\u001b[38;5;241m=\u001b[39m(), internal_convert_user_code\u001b[38;5;241m=\u001b[39m\u001b[38;5;28;01mTrue\u001b[39;00m)) \u001b[38;5;28;01mas\u001b[39;00m fscope:\n\u001b[1;32m     13\u001b[0m     \u001b[38;5;28;01mwith\u001b[39;00m ag__\u001b[38;5;241m.\u001b[39mld(tf)\u001b[38;5;241m.\u001b[39mGradientTape() \u001b[38;5;28;01mas\u001b[39;00m tape:\n\u001b[0;32m---> 14\u001b[0m         loss \u001b[38;5;241m=\u001b[39m \u001b[43mag__\u001b[49m\u001b[38;5;241;43m.\u001b[39;49m\u001b[43mconverted_call\u001b[49m\u001b[43m(\u001b[49m\u001b[43mag__\u001b[49m\u001b[38;5;241;43m.\u001b[39;49m\u001b[43mld\u001b[49m\u001b[43m(\u001b[49m\u001b[43mcompute_loss\u001b[49m\u001b[43m)\u001b[49m\u001b[43m,\u001b[49m\u001b[43m \u001b[49m\u001b[43m(\u001b[49m\u001b[43mag__\u001b[49m\u001b[38;5;241;43m.\u001b[39;49m\u001b[43mld\u001b[49m\u001b[43m(\u001b[49m\u001b[43mmodel\u001b[49m\u001b[43m)\u001b[49m\u001b[43m,\u001b[49m\u001b[43m \u001b[49m\u001b[43mag__\u001b[49m\u001b[38;5;241;43m.\u001b[39;49m\u001b[43mld\u001b[49m\u001b[43m(\u001b[49m\u001b[43mx\u001b[49m\u001b[43m)\u001b[49m\u001b[43m)\u001b[49m\u001b[43m,\u001b[49m\u001b[43m \u001b[49m\u001b[38;5;28;43;01mNone\u001b[39;49;00m\u001b[43m,\u001b[49m\u001b[43m \u001b[49m\u001b[43mfscope\u001b[49m\u001b[43m)\u001b[49m\n\u001b[1;32m     15\u001b[0m     gradients \u001b[38;5;241m=\u001b[39m ag__\u001b[38;5;241m.\u001b[39mconverted_call(ag__\u001b[38;5;241m.\u001b[39mld(tape)\u001b[38;5;241m.\u001b[39mgradient, (ag__\u001b[38;5;241m.\u001b[39mld(loss), ag__\u001b[38;5;241m.\u001b[39mld(model)\u001b[38;5;241m.\u001b[39mtrainable_variables), \u001b[38;5;28;01mNone\u001b[39;00m, fscope)\n\u001b[1;32m     16\u001b[0m     ag__\u001b[38;5;241m.\u001b[39mconverted_call(ag__\u001b[38;5;241m.\u001b[39mld(optimizer)\u001b[38;5;241m.\u001b[39mapply_gradients, (ag__\u001b[38;5;241m.\u001b[39mconverted_call(ag__\u001b[38;5;241m.\u001b[39mld(\u001b[38;5;28mzip\u001b[39m), (ag__\u001b[38;5;241m.\u001b[39mld(gradients), ag__\u001b[38;5;241m.\u001b[39mld(model)\u001b[38;5;241m.\u001b[39mtrainable_variables), \u001b[38;5;28;01mNone\u001b[39;00m, fscope),), \u001b[38;5;28;01mNone\u001b[39;00m, fscope)\n",
      "File \u001b[0;32m/tmp/__autograph_generated_filezw31_8a1.py:11\u001b[0m, in \u001b[0;36mouter_factory.<locals>.inner_factory.<locals>.tf__compute_loss\u001b[0;34m(model, x)\u001b[0m\n\u001b[1;32m      9\u001b[0m retval_ \u001b[38;5;241m=\u001b[39m ag__\u001b[38;5;241m.\u001b[39mUndefinedReturnValue()\n\u001b[1;32m     10\u001b[0m (mean, logvar) \u001b[38;5;241m=\u001b[39m ag__\u001b[38;5;241m.\u001b[39mconverted_call(ag__\u001b[38;5;241m.\u001b[39mld(model)\u001b[38;5;241m.\u001b[39mencode, (ag__\u001b[38;5;241m.\u001b[39mld(x),), \u001b[38;5;28;01mNone\u001b[39;00m, fscope)\n\u001b[0;32m---> 11\u001b[0m ag__\u001b[38;5;241m.\u001b[39mld(\u001b[38;5;28mprint\u001b[39m)(ag__\u001b[38;5;241m.\u001b[39mconverted_call(\u001b[43mag__\u001b[49m\u001b[38;5;241;43m.\u001b[39;49m\u001b[43mld\u001b[49m\u001b[43m(\u001b[49m\u001b[43mmean\u001b[49m\u001b[43m)\u001b[49m\u001b[38;5;241;43m.\u001b[39;49m\u001b[43mnumpy\u001b[49m, (), \u001b[38;5;28;01mNone\u001b[39;00m, fscope))\n\u001b[1;32m     12\u001b[0m ag__\u001b[38;5;241m.\u001b[39mld(\u001b[38;5;28mprint\u001b[39m)(ag__\u001b[38;5;241m.\u001b[39mconverted_call(ag__\u001b[38;5;241m.\u001b[39mld(logvar)\u001b[38;5;241m.\u001b[39mnumpy, (), \u001b[38;5;28;01mNone\u001b[39;00m, fscope))\n\u001b[1;32m     13\u001b[0m z \u001b[38;5;241m=\u001b[39m ag__\u001b[38;5;241m.\u001b[39mconverted_call(ag__\u001b[38;5;241m.\u001b[39mld(model)\u001b[38;5;241m.\u001b[39mreparameterize, (ag__\u001b[38;5;241m.\u001b[39mld(mean), ag__\u001b[38;5;241m.\u001b[39mld(logvar)), \u001b[38;5;28;01mNone\u001b[39;00m, fscope)\n",
      "\u001b[0;31mAttributeError\u001b[0m: in user code:\n\n    File \"/tmp/ipykernel_37283/919851191.py\", line 48, in train_step  *\n        loss = compute_loss(model, x)\n    File \"/tmp/ipykernel_37283/919851191.py\", line 22, in compute_loss  *\n        print(mean.numpy())\n\n    AttributeError: 'Tensor' object has no attribute 'numpy'\n"
     ]
    }
   ],
   "source": [
    "for train_x in train_dataset:\n",
    "    train_step(model, train_x, optimizer)\n",
    "    break"
   ]
  },
  {
   "cell_type": "code",
   "execution_count": null,
   "id": "32f99aa4",
   "metadata": {},
   "outputs": [],
   "source": []
  }
 ],
 "metadata": {
  "kernelspec": {
   "display_name": "Python 3 (ipykernel)",
   "language": "python",
   "name": "python3"
  },
  "language_info": {
   "codemirror_mode": {
    "name": "ipython",
    "version": 3
   },
   "file_extension": ".py",
   "mimetype": "text/x-python",
   "name": "python",
   "nbconvert_exporter": "python",
   "pygments_lexer": "ipython3",
   "version": "3.10.13"
  }
 },
 "nbformat": 4,
 "nbformat_minor": 5
}
